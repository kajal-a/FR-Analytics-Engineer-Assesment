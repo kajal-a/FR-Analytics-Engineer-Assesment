{
 "cells": [
  {
   "cell_type": "markdown",
   "metadata": {},
   "source": [
    "## Fetch Rewards Coding Exercise - Part Two and Three\n",
    "\n",
    "### Using sqlite and python for examining the data for quality and writing sql queries for answering the below mentioned business questions:\n",
    "#### When considering average spend from receipts with 'rewardsReceiptStatus’ of ‘Accepted’ or ‘Rejected’, which is greater?\n",
    "#### When considering total number of items purchased from receipts with 'rewardsReceiptStatus’ of ‘Accepted’ or ‘Rejected’, which is greater?"
   ]
  },
  {
   "cell_type": "code",
   "execution_count": 59,
   "metadata": {},
   "outputs": [],
   "source": [
    "# Import Essential Libraries\n",
    "\n",
    "import sqlite3\n",
    "import json\n",
    "import pandas as pd\n",
    "from sqlite3 import Error\n",
    "import matplotlib.pyplot as plt\n",
    "%matplotlib inline"
   ]
  },
  {
   "cell_type": "code",
   "execution_count": 2,
   "metadata": {},
   "outputs": [],
   "source": [
    "# Load JSON data into Pandas DataFrames\n",
    "\n",
    "with open('users.json') as users:\n",
    "    users_data = json.load(users)\n",
    "    \n",
    "with open('brands.json') as brands:\n",
    "    brands_data = json.load(brands)\n",
    "    \n",
    "with open('receipts.json') as receipts:\n",
    "    receipts_data = json.load(receipts)\n",
    "    \n",
    "users_df = pd.DataFrame(pd.json_normalize(users_data, sep = '_'))\n",
    "brands_df = pd.DataFrame(pd.json_normalize(brands_data, sep = '_'))\n",
    "receipts_df = pd.DataFrame(pd.json_normalize(receipts_data, sep = '_'))"
   ]
  },
  {
   "cell_type": "markdown",
   "metadata": {},
   "source": [
    "### Perform Basic EDA to understand the datasets"
   ]
  },
  {
   "cell_type": "code",
   "execution_count": 3,
   "metadata": {},
   "outputs": [
    {
     "name": "stdout",
     "output_type": "stream",
     "text": [
      "<class 'pandas.core.frame.DataFrame'>\n",
      "RangeIndex: 400 entries, 0 to 399\n",
      "Data columns (total 9 columns):\n",
      " #   Column        Non-Null Count  Dtype \n",
      "---  ------        --------------  ----- \n",
      " 0   barcode       400 non-null    object\n",
      " 1   category      346 non-null    object\n",
      " 2   categoryCode  171 non-null    object\n",
      " 3   name          400 non-null    object\n",
      " 4   topBrand      200 non-null    object\n",
      " 5   _id_$oid      400 non-null    object\n",
      " 6   cpg_$id_$oid  400 non-null    object\n",
      " 7   cpg_$ref      400 non-null    object\n",
      " 8   brandCode     317 non-null    object\n",
      "dtypes: object(9)\n",
      "memory usage: 28.2+ KB\n"
     ]
    }
   ],
   "source": [
    "brands_df.info()"
   ]
  },
  {
   "cell_type": "code",
   "execution_count": 4,
   "metadata": {},
   "outputs": [
    {
     "name": "stdout",
     "output_type": "stream",
     "text": [
      "<class 'pandas.core.frame.DataFrame'>\n",
      "RangeIndex: 495 entries, 0 to 494\n",
      "Data columns (total 7 columns):\n",
      " #   Column             Non-Null Count  Dtype  \n",
      "---  ------             --------------  -----  \n",
      " 0   active             495 non-null    bool   \n",
      " 1   role               495 non-null    object \n",
      " 2   signUpSource       447 non-null    object \n",
      " 3   state              439 non-null    object \n",
      " 4   _id_$oid           495 non-null    object \n",
      " 5   createdDate_$date  495 non-null    int64  \n",
      " 6   lastLogin_$date    433 non-null    float64\n",
      "dtypes: bool(1), float64(1), int64(1), object(4)\n",
      "memory usage: 23.8+ KB\n"
     ]
    }
   ],
   "source": [
    "users_df.info()"
   ]
  },
  {
   "cell_type": "code",
   "execution_count": 5,
   "metadata": {},
   "outputs": [
    {
     "name": "stdout",
     "output_type": "stream",
     "text": [
      "<class 'pandas.core.frame.DataFrame'>\n",
      "RangeIndex: 1119 entries, 0 to 1118\n",
      "Data columns (total 15 columns):\n",
      " #   Column                   Non-Null Count  Dtype  \n",
      "---  ------                   --------------  -----  \n",
      " 0   bonusPointsEarned        544 non-null    float64\n",
      " 1   bonusPointsEarnedReason  544 non-null    object \n",
      " 2   pointsEarned             609 non-null    object \n",
      " 3   purchasedItemCount       635 non-null    float64\n",
      " 4   rewardsReceiptItemList   679 non-null    object \n",
      " 5   rewardsReceiptStatus     1119 non-null   object \n",
      " 6   totalSpent               684 non-null    object \n",
      " 7   userId                   1119 non-null   object \n",
      " 8   _id_$oid                 1119 non-null   object \n",
      " 9   createDate_$date         1119 non-null   int64  \n",
      " 10  dateScanned_$date        1119 non-null   int64  \n",
      " 11  finishedDate_$date       568 non-null    float64\n",
      " 12  modifyDate_$date         1119 non-null   int64  \n",
      " 13  pointsAwardedDate_$date  537 non-null    float64\n",
      " 14  purchaseDate_$date       671 non-null    float64\n",
      "dtypes: float64(5), int64(3), object(7)\n",
      "memory usage: 131.3+ KB\n"
     ]
    }
   ],
   "source": [
    "receipts_df.info()"
   ]
  },
  {
   "cell_type": "markdown",
   "metadata": {},
   "source": [
    "#### ALl the 3 datasets contain a mixture of string(oject in Pandas) and numeric columns."
   ]
  },
  {
   "cell_type": "code",
   "execution_count": 61,
   "metadata": {},
   "outputs": [
    {
     "name": "stdout",
     "output_type": "stream",
     "text": [
      "Receipts\n",
      "--------------------------\n",
      "bonusPointsEarned          575\n",
      "bonusPointsEarnedReason    575\n",
      "pointsEarned               510\n",
      "purchasedItemCount         484\n",
      "rewardsReceiptItemList     440\n",
      "rewardsReceiptStatus         0\n",
      "totalSpent                 435\n",
      "userId                       0\n",
      "_id_$oid                     0\n",
      "createDate_$date             0\n",
      "dateScanned_$date            0\n",
      "finishedDate_$date         551\n",
      "modifyDate_$date             0\n",
      "pointsAwardedDate_$date    582\n",
      "purchaseDate_$date         448\n",
      "dtype: int64\n",
      "--------------------------\n",
      "Users\n",
      "--------------------------\n",
      "active                0\n",
      "role                  0\n",
      "signUpSource         48\n",
      "state                56\n",
      "_id_$oid              0\n",
      "createdDate_$date     0\n",
      "lastLogin_$date      62\n",
      "dtype: int64\n",
      "--------------------------\n",
      "Brands\n",
      "--------------------------\n",
      "barcode           0\n",
      "category         54\n",
      "categoryCode    229\n",
      "name              0\n",
      "topBrand        200\n",
      "_id_$oid          0\n",
      "cpg_$id_$oid      0\n",
      "cpg_$ref          0\n",
      "brandCode        83\n",
      "dtype: int64\n"
     ]
    }
   ],
   "source": [
    "print('Receipts')\n",
    "print('--------------------------')\n",
    "print(receipts_df.isnull().sum())\n",
    "print('--------------------------')\n",
    "print('Users')\n",
    "print('--------------------------')\n",
    "print(users_df.isnull().sum())\n",
    "print('--------------------------')\n",
    "print('Brands')\n",
    "print('--------------------------')\n",
    "print(brands_df.isnull().sum())"
   ]
  },
  {
   "cell_type": "markdown",
   "metadata": {},
   "source": [
    "#### The Users Dataset has very few rows containing null values, but the dataset brands and receipts have plenty of rows having null values, If the columns containing null values are not relevant to the analysis, it is ok to leave them as is, but otherwise they must be filled with a substitue value or should be dropped if the dataset is big enough."
   ]
  },
  {
   "cell_type": "code",
   "execution_count": 7,
   "metadata": {},
   "outputs": [
    {
     "name": "stdout",
     "output_type": "stream",
     "text": [
      "283\n",
      "0\n",
      "0\n"
     ]
    }
   ],
   "source": [
    "print(users_df.duplicated().sum()) # duplicates in users table\n",
    "print(brands_df.duplicated().sum())\n",
    "print(receipts_df.duplicated(subset = ['_id_$oid']).sum())"
   ]
  },
  {
   "cell_type": "markdown",
   "metadata": {},
   "source": [
    "#### Out of 495 users in the dataset, 283 of them are duplicates."
   ]
  },
  {
   "cell_type": "code",
   "execution_count": 191,
   "metadata": {},
   "outputs": [],
   "source": [
    "#create a dict to store the itemlist against its receiptId\n",
    "receipt_items = {}\n",
    "for index , receipt in receipts_df.iterrows():\n",
    "    #check for nan\n",
    "    if receipt['rewardsReceiptItemList'] != receipt['rewardsReceiptItemList']:\n",
    "        pass\n",
    "    else:\n",
    "        receipt_items[receipt['_id_$oid']] = receipt['rewardsReceiptItemList']"
   ]
  },
  {
   "cell_type": "code",
   "execution_count": 192,
   "metadata": {},
   "outputs": [
    {
     "data": {
      "text/html": [
       "<div>\n",
       "<style scoped>\n",
       "    .dataframe tbody tr th:only-of-type {\n",
       "        vertical-align: middle;\n",
       "    }\n",
       "\n",
       "    .dataframe tbody tr th {\n",
       "        vertical-align: top;\n",
       "    }\n",
       "\n",
       "    .dataframe thead th {\n",
       "        text-align: right;\n",
       "    }\n",
       "</style>\n",
       "<table border=\"1\" class=\"dataframe\">\n",
       "  <thead>\n",
       "    <tr style=\"text-align: right;\">\n",
       "      <th></th>\n",
       "      <th>barcode</th>\n",
       "      <th>description</th>\n",
       "      <th>finalPrice</th>\n",
       "      <th>itemPrice</th>\n",
       "      <th>needsFetchReview</th>\n",
       "      <th>partnerItemId</th>\n",
       "      <th>preventTargetGapPoints</th>\n",
       "      <th>quantityPurchased</th>\n",
       "      <th>receiptId</th>\n",
       "      <th>userFlaggedBarcode</th>\n",
       "      <th>...</th>\n",
       "      <th>itemNumber</th>\n",
       "      <th>originalMetaBriteQuantityPurchased</th>\n",
       "      <th>pointsEarned</th>\n",
       "      <th>targetPrice</th>\n",
       "      <th>competitiveProduct</th>\n",
       "      <th>originalFinalPrice</th>\n",
       "      <th>originalMetaBriteItemPrice</th>\n",
       "      <th>deleted</th>\n",
       "      <th>priceAfterCoupon</th>\n",
       "      <th>metabriteCampaignId</th>\n",
       "    </tr>\n",
       "  </thead>\n",
       "  <tbody>\n",
       "    <tr>\n",
       "      <th>0</th>\n",
       "      <td>4011</td>\n",
       "      <td>ITEM NOT FOUND</td>\n",
       "      <td>26.00</td>\n",
       "      <td>26.00</td>\n",
       "      <td>0.0</td>\n",
       "      <td>1</td>\n",
       "      <td>1.0</td>\n",
       "      <td>5.0</td>\n",
       "      <td>5ff1e1eb0a720f0523000575</td>\n",
       "      <td>4011</td>\n",
       "      <td>...</td>\n",
       "      <td>NaN</td>\n",
       "      <td>NaN</td>\n",
       "      <td>NaN</td>\n",
       "      <td>NaN</td>\n",
       "      <td>NaN</td>\n",
       "      <td>NaN</td>\n",
       "      <td>NaN</td>\n",
       "      <td>NaN</td>\n",
       "      <td>NaN</td>\n",
       "      <td>NaN</td>\n",
       "    </tr>\n",
       "    <tr>\n",
       "      <th>1</th>\n",
       "      <td>028400642255</td>\n",
       "      <td>DORITOS TORTILLA CHIP SPICY SWEET CHILI REDUCE...</td>\n",
       "      <td>10.00</td>\n",
       "      <td>10.00</td>\n",
       "      <td>1.0</td>\n",
       "      <td>2</td>\n",
       "      <td>1.0</td>\n",
       "      <td>1.0</td>\n",
       "      <td>5ff1e1bb0a720f052300056b</td>\n",
       "      <td>028400642255</td>\n",
       "      <td>...</td>\n",
       "      <td>NaN</td>\n",
       "      <td>NaN</td>\n",
       "      <td>NaN</td>\n",
       "      <td>NaN</td>\n",
       "      <td>NaN</td>\n",
       "      <td>NaN</td>\n",
       "      <td>NaN</td>\n",
       "      <td>NaN</td>\n",
       "      <td>NaN</td>\n",
       "      <td>NaN</td>\n",
       "    </tr>\n",
       "    <tr>\n",
       "      <th>2</th>\n",
       "      <td>028400642255</td>\n",
       "      <td>DORITOS TORTILLA CHIP SPICY SWEET CHILI REDUCE...</td>\n",
       "      <td>10.00</td>\n",
       "      <td>10.00</td>\n",
       "      <td>0.0</td>\n",
       "      <td>1</td>\n",
       "      <td>1.0</td>\n",
       "      <td>1.0</td>\n",
       "      <td>5ff1e1f10a720f052300057a</td>\n",
       "      <td>4011</td>\n",
       "      <td>...</td>\n",
       "      <td>NaN</td>\n",
       "      <td>NaN</td>\n",
       "      <td>NaN</td>\n",
       "      <td>NaN</td>\n",
       "      <td>NaN</td>\n",
       "      <td>NaN</td>\n",
       "      <td>NaN</td>\n",
       "      <td>NaN</td>\n",
       "      <td>NaN</td>\n",
       "      <td>NaN</td>\n",
       "    </tr>\n",
       "    <tr>\n",
       "      <th>3</th>\n",
       "      <td>4011</td>\n",
       "      <td>ITEM NOT FOUND</td>\n",
       "      <td>28.00</td>\n",
       "      <td>28.00</td>\n",
       "      <td>0.0</td>\n",
       "      <td>1</td>\n",
       "      <td>1.0</td>\n",
       "      <td>4.0</td>\n",
       "      <td>5ff1e1ee0a7214ada100056f</td>\n",
       "      <td>4011</td>\n",
       "      <td>...</td>\n",
       "      <td>NaN</td>\n",
       "      <td>NaN</td>\n",
       "      <td>NaN</td>\n",
       "      <td>NaN</td>\n",
       "      <td>NaN</td>\n",
       "      <td>NaN</td>\n",
       "      <td>NaN</td>\n",
       "      <td>NaN</td>\n",
       "      <td>NaN</td>\n",
       "      <td>NaN</td>\n",
       "    </tr>\n",
       "    <tr>\n",
       "      <th>4</th>\n",
       "      <td>1234</td>\n",
       "      <td>ITEM NOT FOUND</td>\n",
       "      <td>2.56</td>\n",
       "      <td>2.56</td>\n",
       "      <td>1.0</td>\n",
       "      <td>2</td>\n",
       "      <td>1.0</td>\n",
       "      <td>3.0</td>\n",
       "      <td>5ff1e1d20a7214ada1000561</td>\n",
       "      <td>1234</td>\n",
       "      <td>...</td>\n",
       "      <td>NaN</td>\n",
       "      <td>NaN</td>\n",
       "      <td>NaN</td>\n",
       "      <td>NaN</td>\n",
       "      <td>NaN</td>\n",
       "      <td>NaN</td>\n",
       "      <td>NaN</td>\n",
       "      <td>NaN</td>\n",
       "      <td>NaN</td>\n",
       "      <td>NaN</td>\n",
       "    </tr>\n",
       "  </tbody>\n",
       "</table>\n",
       "<p>5 rows × 35 columns</p>\n",
       "</div>"
      ],
      "text/plain": [
       "        barcode                                        description finalPrice  \\\n",
       "0          4011                                     ITEM NOT FOUND      26.00   \n",
       "1  028400642255  DORITOS TORTILLA CHIP SPICY SWEET CHILI REDUCE...      10.00   \n",
       "2  028400642255  DORITOS TORTILLA CHIP SPICY SWEET CHILI REDUCE...      10.00   \n",
       "3          4011                                     ITEM NOT FOUND      28.00   \n",
       "4          1234                                     ITEM NOT FOUND       2.56   \n",
       "\n",
       "  itemPrice  needsFetchReview partnerItemId  preventTargetGapPoints  \\\n",
       "0     26.00               0.0             1                     1.0   \n",
       "1     10.00               1.0             2                     1.0   \n",
       "2     10.00               0.0             1                     1.0   \n",
       "3     28.00               0.0             1                     1.0   \n",
       "4      2.56               1.0             2                     1.0   \n",
       "\n",
       "   quantityPurchased                 receiptId userFlaggedBarcode  ...  \\\n",
       "0                5.0  5ff1e1eb0a720f0523000575               4011  ...   \n",
       "1                1.0  5ff1e1bb0a720f052300056b       028400642255  ...   \n",
       "2                1.0  5ff1e1f10a720f052300057a               4011  ...   \n",
       "3                4.0  5ff1e1ee0a7214ada100056f               4011  ...   \n",
       "4                3.0  5ff1e1d20a7214ada1000561               1234  ...   \n",
       "\n",
       "   itemNumber originalMetaBriteQuantityPurchased  pointsEarned targetPrice  \\\n",
       "0         NaN                                NaN           NaN         NaN   \n",
       "1         NaN                                NaN           NaN         NaN   \n",
       "2         NaN                                NaN           NaN         NaN   \n",
       "3         NaN                                NaN           NaN         NaN   \n",
       "4         NaN                                NaN           NaN         NaN   \n",
       "\n",
       "  competitiveProduct originalFinalPrice originalMetaBriteItemPrice deleted  \\\n",
       "0                NaN                NaN                        NaN     NaN   \n",
       "1                NaN                NaN                        NaN     NaN   \n",
       "2                NaN                NaN                        NaN     NaN   \n",
       "3                NaN                NaN                        NaN     NaN   \n",
       "4                NaN                NaN                        NaN     NaN   \n",
       "\n",
       "  priceAfterCoupon metabriteCampaignId  \n",
       "0              NaN                 NaN  \n",
       "1              NaN                 NaN  \n",
       "2              NaN                 NaN  \n",
       "3              NaN                 NaN  \n",
       "4              NaN                 NaN  \n",
       "\n",
       "[5 rows x 35 columns]"
      ]
     },
     "execution_count": 192,
     "metadata": {},
     "output_type": "execute_result"
    }
   ],
   "source": [
    "#create a pandas dataframe to flatten the receiptsRewardItemList and add a receiptId column with it\n",
    "current_row = {}\n",
    "itemlist_df = pd.DataFrame()\n",
    "\n",
    "for key in receipt_items:\n",
    "    for val in receipt_items[key]:\n",
    "        current_row['receiptId'] = key\n",
    "        for i in val:\n",
    "            current_row[i] = val[i]\n",
    "    itemlist_df = itemlist_df.append(current_row , ignore_index = True)\n",
    "itemlist_df.head()"
   ]
  },
  {
   "cell_type": "code",
   "execution_count": 193,
   "metadata": {},
   "outputs": [
    {
     "name": "stdout",
     "output_type": "stream",
     "text": [
      "<class 'pandas.core.frame.DataFrame'>\n",
      "RangeIndex: 679 entries, 0 to 678\n",
      "Data columns (total 35 columns):\n",
      " #   Column                              Non-Null Count  Dtype  \n",
      "---  ------                              --------------  -----  \n",
      " 0   barcode                             679 non-null    object \n",
      " 1   description                         679 non-null    object \n",
      " 2   finalPrice                          679 non-null    object \n",
      " 3   itemPrice                           679 non-null    object \n",
      " 4   needsFetchReview                    679 non-null    float64\n",
      " 5   partnerItemId                       679 non-null    object \n",
      " 6   preventTargetGapPoints              679 non-null    float64\n",
      " 7   quantityPurchased                   679 non-null    float64\n",
      " 8   receiptId                           679 non-null    object \n",
      " 9   userFlaggedBarcode                  679 non-null    object \n",
      " 10  userFlaggedNewItem                  679 non-null    float64\n",
      " 11  userFlaggedPrice                    679 non-null    object \n",
      " 12  userFlaggedQuantity                 679 non-null    float64\n",
      " 13  needsFetchReviewReason              678 non-null    object \n",
      " 14  pointsNotAwardedReason              678 non-null    object \n",
      " 15  pointsPayerId                       678 non-null    object \n",
      " 16  rewardsGroup                        678 non-null    object \n",
      " 17  rewardsProductPartnerId             678 non-null    object \n",
      " 18  userFlaggedDescription              678 non-null    object \n",
      " 19  originalMetaBriteBarcode            674 non-null    object \n",
      " 20  originalMetaBriteDescription        674 non-null    object \n",
      " 21  brandCode                           673 non-null    object \n",
      " 22  competitorRewardsGroup              673 non-null    object \n",
      " 23  discountedItemPrice                 673 non-null    object \n",
      " 24  originalReceiptItemText             673 non-null    object \n",
      " 25  itemNumber                          668 non-null    object \n",
      " 26  originalMetaBriteQuantityPurchased  668 non-null    float64\n",
      " 27  pointsEarned                        667 non-null    object \n",
      " 28  targetPrice                         667 non-null    object \n",
      " 29  competitiveProduct                  666 non-null    float64\n",
      " 30  originalFinalPrice                  659 non-null    object \n",
      " 31  originalMetaBriteItemPrice          659 non-null    object \n",
      " 32  deleted                             651 non-null    float64\n",
      " 33  priceAfterCoupon                    631 non-null    object \n",
      " 34  metabriteCampaignId                 573 non-null    object \n",
      "dtypes: float64(8), object(27)\n",
      "memory usage: 185.8+ KB\n"
     ]
    }
   ],
   "source": [
    "itemlist_df.info()"
   ]
  },
  {
   "cell_type": "code",
   "execution_count": 194,
   "metadata": {},
   "outputs": [
    {
     "data": {
      "text/plain": [
       "BRAND                        196\n",
       "MISSION                      121\n",
       "KRAFT EASY CHEESE             59\n",
       "WINGSTOP                      47\n",
       "BEN AND JERRYS                38\n",
       "GERM-X                        33\n",
       "AMERICAN BEAUTY               27\n",
       "BORDEN                        24\n",
       "KLEENEX                       24\n",
       "CALIFIA FARMS                 15\n",
       "KLARBRUNN                     14\n",
       "KRUSTEAZ                      12\n",
       "VIVA                           9\n",
       "OSCAR MAYER                    7\n",
       "HUGGIES                        7\n",
       "GALLO FAMILY VINEYARDS         7\n",
       "KIT KAT                        7\n",
       "FOLGERS                        4\n",
       "KNORR                          3\n",
       "DORITOS                        2\n",
       "MCCORMICK GRILL MATES          1\n",
       "THOMAS ENGLISH MUFFINS         1\n",
       "KLONDIKE                       1\n",
       "THAI KITCHEN                   1\n",
       "WONDERFUL                      1\n",
       "STOUFFER'S CLASSICS            1\n",
       "HY-VEE                         1\n",
       "DOLE CHILLED FRUIT JUICES      1\n",
       "HERSHEY'S KISSES               1\n",
       "PEPSI                          1\n",
       "HARVEST SNAPS                  1\n",
       "KARO                           1\n",
       "SKITTLES                       1\n",
       "KRAFT                          1\n",
       "ORAL-B GLIDE                   1\n",
       "JIMMY DEAN                     1\n",
       "CHEERIOS                       1\n",
       "Name: brandCode, dtype: int64"
      ]
     },
     "execution_count": 194,
     "metadata": {},
     "output_type": "execute_result"
    }
   ],
   "source": [
    "# count of items scanned for each brandcode\n",
    "itemlist_df['brandCode'].value_counts()"
   ]
  },
  {
   "cell_type": "code",
   "execution_count": 195,
   "metadata": {},
   "outputs": [
    {
     "data": {
      "text/plain": [
       "FINISHED     518\n",
       "SUBMITTED    434\n",
       "REJECTED      71\n",
       "PENDING       50\n",
       "FLAGGED       46\n",
       "Name: rewardsReceiptStatus, dtype: int64"
      ]
     },
     "execution_count": 195,
     "metadata": {},
     "output_type": "execute_result"
    }
   ],
   "source": [
    "#count of receipts for each receipt status\n",
    "receipts_df['rewardsReceiptStatus'].value_counts() # no receipts for accepted status"
   ]
  },
  {
   "cell_type": "markdown",
   "metadata": {},
   "source": [
    "### Create a SQLite database and create tables based on the data model"
   ]
  },
  {
   "cell_type": "code",
   "execution_count": 9,
   "metadata": {},
   "outputs": [],
   "source": [
    "def connect_database(db):\n",
    "    '''connect to the database mentioned in arguements'''\n",
    "    conn = None\n",
    "    try:\n",
    "        conn = sqlite3.connect(db)\n",
    "    except Error as e:\n",
    "        print(e)\n",
    "    return conn"
   ]
  },
  {
   "cell_type": "code",
   "execution_count": 10,
   "metadata": {},
   "outputs": [],
   "source": [
    "def create_table(conn, create_table_sql):\n",
    "    \"\"\"create a table from the create_table_sql statement\"\"\"\n",
    "    try:\n",
    "        c = conn.cursor()\n",
    "        c.execute(create_table_sql)\n",
    "    except Error as e:\n",
    "        print(e)"
   ]
  },
  {
   "cell_type": "code",
   "execution_count": 11,
   "metadata": {},
   "outputs": [],
   "source": [
    "def insert_records(conn, insert_sql, data):\n",
    "    '''inserts data in tables mentioned in insert sql statement'''\n",
    "    try:\n",
    "        cur = conn.cursor()\n",
    "        for row in data:\n",
    "            cur.execute(insert_sql, row)\n",
    "        conn.commit()\n",
    "    except Error as e:\n",
    "        print(e)\n",
    "    return cur.lastrowid"
   ]
  },
  {
   "cell_type": "code",
   "execution_count": 50,
   "metadata": {},
   "outputs": [],
   "source": [
    "def select_query(conn, select_sql):\n",
    "    '''executes a select query'''\n",
    "    try:\n",
    "        cur = conn.cursor()\n",
    "        cur.execute(select_sql)\n",
    "        columns = [col[0] for col in cur.description]\n",
    "        print(columns)\n",
    "        rows = cur.fetchall()\n",
    "        for row in rows:\n",
    "            print(row)\n",
    "    except Error as e:\n",
    "        print(e)"
   ]
  },
  {
   "cell_type": "code",
   "execution_count": 13,
   "metadata": {},
   "outputs": [],
   "source": [
    "#connect to the database\n",
    "conn = connect_database(r'D:\\Fetch Rewards - AE\\rewards_db.db')"
   ]
  },
  {
   "cell_type": "code",
   "execution_count": 124,
   "metadata": {},
   "outputs": [],
   "source": [
    "#create tables receipts and rewardpoints (can create rest of the tables similarly)\n",
    "\n",
    "create_receipts_table_sql = '''CREATE TABLE Receipts(\n",
    "                                receiptId Text PRIMARY KEY,\n",
    "                                bonusPointsEarnedReason Text,\n",
    "                                rewardsReceiptStatus Text                                \n",
    "                                );'''\n",
    "\n",
    "create_rewardpoints_table_sql = '''CREATE TABLE RewardsPoints(\n",
    "                        receiptId Text,\n",
    "                        userId Text,\n",
    "                        createdDateId Number,\n",
    "                        dateScannedId Number,\n",
    "                        finishedDateId Number,\n",
    "                        modifyDateId Number,\n",
    "                        pointsAwardedDateId Number,\n",
    "                        purchaseDateId Number,\n",
    "                        bonusPointsEarned Number,\n",
    "                        pointsEarned Number,\n",
    "                        purchaseItemCount Number,\n",
    "                        totalSpent Number,\n",
    "                        FOREIGN KEY (receiptId) REFERENCES Receipts (receiptId)\n",
    "                        );'''\n",
    "\n",
    "if conn is not None:\n",
    "    create_table(conn, create_receipts_table_sql)\n",
    "    create_table(conn, create_rewardpoints_table_sql)\n",
    "else:\n",
    "    print('Error in connecting to the database!')\n"
   ]
  },
  {
   "cell_type": "code",
   "execution_count": 38,
   "metadata": {},
   "outputs": [
    {
     "data": {
      "text/plain": [
       "1119"
      ]
     },
     "execution_count": 38,
     "metadata": {},
     "output_type": "execute_result"
    }
   ],
   "source": [
    "# insert data from pandas dataframe to database tables\n",
    "\n",
    "insert_into_receipts = 'INSERT INTO Receipts(receiptId, bonusPointsEarnedReason, rewardsReceiptStatus) VALUES(?, ?, ?);'\n",
    "insert_into_rewardpoints = '''INSERT INTO RewardsPoints(receiptId, userId, bonusPointsEarned, pointsEarned, purchaseItemCount, totalSpent)\n",
    "                            VALUES(?, ?, ?, ?, ?, ?);'''\n",
    "\n",
    "receipts_data = zip(receipts_df['_id_$oid'], receipts_df['bonusPointsEarnedReason'], receipts_df['rewardsReceiptStatus'])\n",
    "rewardpoints_data = zip(receipts_df['_id_$oid'], receipts_df['userId'], receipts_df['bonusPointsEarned'], receipts_df['pointsEarned'], receipts_df['purchasedItemCount'], receipts_df['totalSpent'])\n",
    "\n",
    "if conn is not None:\n",
    "    insert_records(conn, insert_into_receipts, receipts_data)\n",
    "    insert_records(conn, insert_into_rewardpoints, rewardpoints_data)\n",
    "else:\n",
    "    print('Cannot Insert Records. Error in connecting to the database!')"
   ]
  },
  {
   "cell_type": "code",
   "execution_count": 197,
   "metadata": {},
   "outputs": [
    {
     "name": "stdout",
     "output_type": "stream",
     "text": [
      "['rewardsReceiptStatus', 'avgTotalSpent']\n",
      "('REJECTED', 23.326056338028184)\n",
      "('FINISHED', 80.85430501930502)\n",
      "--------------------\n",
      "['rewardsReceiptStatus', 'totalNumItems']\n",
      "('REJECTED', 173)\n",
      "('FINISHED', 8184)\n"
     ]
    }
   ],
   "source": [
    "# sql queries for predefined business questions\n",
    "\n",
    "# average spend from receipts with 'rewardsReceiptStatus’ of ‘Accepted’ or ‘Rejected’, which is greater?\n",
    "\n",
    "avg_spent = '''SELECT r.rewardsReceiptStatus, AVG(rp.totalSpent) AS avgTotalSpent\n",
    "            FROM RewardsPoints AS rp JOIN Receipts AS r ON rp.receiptId = r.receiptId\n",
    "            GROUP BY r.rewardsReceiptStatus\n",
    "            HAVING r.rewardsReceiptStatus IN ('ACCEPTED', 'REJECTED', 'FINISHED')\n",
    "            ORDER BY AVG(rp.totalSpent);'''\n",
    "\n",
    "# total number of items purchased from receipts with 'rewardsReceiptStatus’ of ‘Accepted’ or ‘Rejected’, which is greater?\n",
    "\n",
    "total_num_items = '''SELECT r.rewardsReceiptStatus, SUM(rp.purchaseItemCount) AS totalNumItems\n",
    "                    FROM RewardsPoints AS rp JOIN Receipts AS r ON rp.receiptId = r.receiptId\n",
    "                    GROUP BY r.rewardsReceiptStatus\n",
    "                    HAVING r.rewardsReceiptStatus IN ('ACCEPTED', 'REJECTED', 'FINISHED')\n",
    "                    ORDER BY SUM(rp.purchaseItemCount)\n",
    "                '''\n",
    "\n",
    "if conn is not None:\n",
    "    select_query(conn, avg_spent)\n",
    "    print('--------------------')\n",
    "    select_query(conn, total_num_items)\n",
    "else:\n",
    "    print('Cannot execute the query. Error in connecting to the database!')\n"
   ]
  },
  {
   "cell_type": "markdown",
   "metadata": {},
   "source": [
    "#### Since the dataset did not have any receipts for Accepted status, I included receipts of Finished status and it looks like receipts with status finished have the greater average spend as well as the total number of items purchased."
   ]
  },
  {
   "cell_type": "code",
   "execution_count": null,
   "metadata": {},
   "outputs": [],
   "source": []
  }
 ],
 "metadata": {
  "kernelspec": {
   "display_name": "Python 3",
   "language": "python",
   "name": "python3"
  },
  "language_info": {
   "codemirror_mode": {
    "name": "ipython",
    "version": 3
   },
   "file_extension": ".py",
   "mimetype": "text/x-python",
   "name": "python",
   "nbconvert_exporter": "python",
   "pygments_lexer": "ipython3",
   "version": "3.7.6"
  }
 },
 "nbformat": 4,
 "nbformat_minor": 4
}
